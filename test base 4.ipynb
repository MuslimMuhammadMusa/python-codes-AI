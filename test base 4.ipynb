{
 "cells": [
  {
   "cell_type": "code",
   "execution_count": 4,
   "id": "ed06fda3",
   "metadata": {},
   "outputs": [
    {
     "data": {
      "text/html": [
       "<div>\n",
       "<style scoped>\n",
       "    .dataframe tbody tr th:only-of-type {\n",
       "        vertical-align: middle;\n",
       "    }\n",
       "\n",
       "    .dataframe tbody tr th {\n",
       "        vertical-align: top;\n",
       "    }\n",
       "\n",
       "    .dataframe thead th {\n",
       "        text-align: right;\n",
       "    }\n",
       "</style>\n",
       "<table border=\"1\" class=\"dataframe\">\n",
       "  <thead>\n",
       "    <tr style=\"text-align: right;\">\n",
       "      <th></th>\n",
       "      <th>Player 1</th>\n",
       "      <th>Player 2</th>\n",
       "      <th>Player 3</th>\n",
       "      <th>Player 4</th>\n",
       "    </tr>\n",
       "  </thead>\n",
       "  <tbody>\n",
       "    <tr>\n",
       "      <th>0</th>\n",
       "      <td>5</td>\n",
       "      <td>6</td>\n",
       "      <td>8</td>\n",
       "      <td>4</td>\n",
       "    </tr>\n",
       "    <tr>\n",
       "      <th>1</th>\n",
       "      <td>8</td>\n",
       "      <td>7</td>\n",
       "      <td>5</td>\n",
       "      <td>9</td>\n",
       "    </tr>\n",
       "    <tr>\n",
       "      <th>2</th>\n",
       "      <td>3</td>\n",
       "      <td>2</td>\n",
       "      <td>4</td>\n",
       "      <td>6</td>\n",
       "    </tr>\n",
       "    <tr>\n",
       "      <th>3</th>\n",
       "      <td>6</td>\n",
       "      <td>9</td>\n",
       "      <td>7</td>\n",
       "      <td>5</td>\n",
       "    </tr>\n",
       "  </tbody>\n",
       "</table>\n",
       "</div>"
      ],
      "text/plain": [
       "   Player 1  Player 2  Player 3  Player 4\n",
       "0         5         6         8         4\n",
       "1         8         7         5         9\n",
       "2         3         2         4         6\n",
       "3         6         9         7         5"
      ]
     },
     "execution_count": 4,
     "metadata": {},
     "output_type": "execute_result"
    }
   ],
   "source": [
    "import pandas as pd\n",
    "\n",
    "data = {'Player 1': [5, 8, 3, 6], \n",
    "        'Player 2': [6, 7, 2, 9],\n",
    "        'Player 3': [8, 5, 4, 7],\n",
    "        'Player 4': [4, 9, 6, 5]}\n",
    "\n",
    "df = pd.DataFrame(data)\n",
    "df"
   ]
  },
  {
   "cell_type": "code",
   "execution_count": 5,
   "id": "8512e6e9",
   "metadata": {},
   "outputs": [],
   "source": [
    "def fitness(stats):\n",
    "    return sum(stats)\n"
   ]
  },
  {
   "cell_type": "code",
   "execution_count": 6,
   "id": "1f94b6fd",
   "metadata": {},
   "outputs": [],
   "source": [
    "df['Fitness'] = df.apply(lambda x: fitness(x), axis=1)\n"
   ]
  },
  {
   "cell_type": "code",
   "execution_count": 9,
   "id": "49b99274",
   "metadata": {},
   "outputs": [
    {
     "name": "stdout",
     "output_type": "stream",
     "text": [
      "Original population:\n",
      "   Player 1  Player 2  Player 3  Player 4  Fitness\n",
      "0         5         8         3         6       22\n",
      "1         6         7         2         9       24\n",
      "2         8         5         4         7       24\n",
      "3         4         9         6         5       24\n",
      "\n",
      "Best two players after 5 generations:\n",
      "   Stat 1  Stat 2  Stat 3  Stat 4\n",
      "0       8      10       7       7\n",
      "1       8      10       7       7\n"
     ]
    },
    {
     "name": "stderr",
     "output_type": "stream",
     "text": [
      "C:\\Users\\Global Village\\AppData\\Local\\Programs\\Python\\Python310\\lib\\site-packages\\deap\\creator.py:138: RuntimeWarning: A class named 'FitnessMax' has already been created and it will be overwritten. Consider deleting previous creation of that class or rename it.\n",
      "  warnings.warn(\"A class named '{0}' has already been created and it \"\n",
      "C:\\Users\\Global Village\\AppData\\Local\\Programs\\Python\\Python310\\lib\\site-packages\\deap\\creator.py:138: RuntimeWarning: A class named 'Individual' has already been created and it will be overwritten. Consider deleting previous creation of that class or rename it.\n",
      "  warnings.warn(\"A class named '{0}' has already been created and it \"\n"
     ]
    }
   ],
   "source": [
    "import random\n",
    "import pandas as pd\n",
    "from deap import base, creator, tools, algorithms\n",
    "\n",
    "# Define the population of players\n",
    "pop = [[5, 8, 3, 6], \n",
    "       [6, 7, 2, 9],\n",
    "       [8, 5, 4, 7],\n",
    "       [4, 9, 6, 5]]\n",
    "\n",
    "# Create a dataframe of the population\n",
    "df = pd.DataFrame(pop, columns=['Player 1', 'Player 2', 'Player 3', 'Player 4'])\n",
    "\n",
    "# Define the fitness function\n",
    "def fitness(stats):\n",
    "    return sum(stats)\n",
    "\n",
    "# Apply the fitness function to each player's stats\n",
    "df['Fitness'] = df.apply(lambda x: fitness(x), axis=1)\n",
    "\n",
    "# Define the genetic operators\n",
    "creator.create(\"FitnessMax\", base.Fitness, weights=(1.0,))\n",
    "creator.create(\"Individual\", list, fitness=creator.FitnessMax)\n",
    "\n",
    "toolbox = base.Toolbox()\n",
    "\n",
    "toolbox.register(\"attr_int\", random.randint, 1, 10)\n",
    "toolbox.register(\"individual\", tools.initRepeat, creator.Individual, toolbox.attr_int, n=4)\n",
    "toolbox.register(\"population\", tools.initRepeat, list, toolbox.individual)\n",
    "\n",
    "def evaluate(individual):\n",
    "    return sum(individual),\n",
    "\n",
    "toolbox.register(\"evaluate\", evaluate)\n",
    "toolbox.register(\"mate\", tools.cxTwoPoint)\n",
    "toolbox.register(\"mutate\", tools.mutUniformInt, low=1, up=10, indpb=0.2)\n",
    "toolbox.register(\"select\", tools.selTournament, tournsize=3)\n",
    "\n",
    "# Create an initial population of 10 individuals\n",
    "population = toolbox.population(n=10)\n",
    "\n",
    "# Run the genetic algorithm for 5 generations\n",
    "for gen in range(5):\n",
    "    offspring = algorithms.varAnd(population, toolbox, cxpb=0.5, mutpb=0.1)\n",
    "    fits = toolbox.map(toolbox.evaluate, offspring)\n",
    "    for fit, ind in zip(fits, offspring):\n",
    "        ind.fitness.values = fit\n",
    "    population = toolbox.select(offspring, k=len(population))\n",
    "\n",
    "# Choose the two individuals with the highest fitness\n",
    "best_individuals = tools.selBest(population, k=2)\n",
    "\n",
    "# Get the stats of the best two players\n",
    "best_players = []\n",
    "for ind in best_individuals:\n",
    "    best_players.append(list(ind))\n",
    "\n",
    "# Print the results\n",
    "print(\"Original population:\")\n",
    "print(df)\n",
    "print(\"\\nBest two players after 5 generations:\")\n",
    "print(pd.DataFrame(best_players, columns=['Stat 1', 'Stat 2', 'Stat 3', 'Stat 4']))\n"
   ]
  },
  {
   "cell_type": "code",
   "execution_count": null,
   "id": "466594de",
   "metadata": {},
   "outputs": [],
   "source": []
  },
  {
   "cell_type": "code",
   "execution_count": null,
   "id": "b9c743c3",
   "metadata": {},
   "outputs": [],
   "source": []
  },
  {
   "cell_type": "code",
   "execution_count": null,
   "id": "8077e0ab",
   "metadata": {},
   "outputs": [],
   "source": []
  },
  {
   "cell_type": "code",
   "execution_count": null,
   "id": "3edf44cf",
   "metadata": {},
   "outputs": [],
   "source": []
  },
  {
   "cell_type": "code",
   "execution_count": null,
   "id": "f54879d9",
   "metadata": {},
   "outputs": [],
   "source": []
  },
  {
   "cell_type": "code",
   "execution_count": null,
   "id": "e15e4120",
   "metadata": {},
   "outputs": [],
   "source": []
  },
  {
   "cell_type": "code",
   "execution_count": null,
   "id": "6a3bcee1",
   "metadata": {},
   "outputs": [],
   "source": []
  }
 ],
 "metadata": {
  "kernelspec": {
   "display_name": "Python 3 (ipykernel)",
   "language": "python",
   "name": "python3"
  },
  "language_info": {
   "codemirror_mode": {
    "name": "ipython",
    "version": 3
   },
   "file_extension": ".py",
   "mimetype": "text/x-python",
   "name": "python",
   "nbconvert_exporter": "python",
   "pygments_lexer": "ipython3",
   "version": "3.10.7"
  }
 },
 "nbformat": 4,
 "nbformat_minor": 5
}
