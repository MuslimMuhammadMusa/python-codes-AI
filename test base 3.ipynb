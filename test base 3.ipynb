{
 "cells": [
  {
   "cell_type": "code",
   "execution_count": 11,
   "id": "7daccfd2",
   "metadata": {},
   "outputs": [
    {
     "data": {
      "text/plain": [
       "{'Sachin Tendulkar': {'Matches': 121,\n",
       "  'Runs': 13909,\n",
       "  'Highest Score': 237,\n",
       "  'Batting Average': 44.75,\n",
       "  'Wickets': 107,\n",
       "  'Best Bowling': 4,\n",
       "  'Bowling Average': 26.11},\n",
       " 'Virat Kohli': {'Matches': 98,\n",
       "  'Runs': 8720,\n",
       "  'Highest Score': 127,\n",
       "  'Batting Average': 47.12,\n",
       "  'Wickets': 10,\n",
       "  'Best Bowling': 5,\n",
       "  'Bowling Average': 31.49},\n",
       " 'Steve Smith': {'Matches': 130,\n",
       "  'Runs': 8027,\n",
       "  'Highest Score': 201,\n",
       "  'Batting Average': 60.05,\n",
       "  'Wickets': 18,\n",
       "  'Best Bowling': 3,\n",
       "  'Bowling Average': 40.68},\n",
       " 'Kane Williamson': {'Matches': 77,\n",
       "  'Runs': 7316,\n",
       "  'Highest Score': 213,\n",
       "  'Batting Average': 49.37,\n",
       "  'Wickets': 18,\n",
       "  'Best Bowling': 4,\n",
       "  'Bowling Average': 37.61}}"
      ]
     },
     "execution_count": 11,
     "metadata": {},
     "output_type": "execute_result"
    }
   ],
   "source": [
    "import random\n",
    "\n",
    "cricket_players = {\n",
    "    \"Sachin Tendulkar\": {\n",
    "        \"Matches\": random.randint(100, 500),\n",
    "        \"Runs\": random.randint(10000, 30000),\n",
    "        \"Highest Score\": random.randint(150, 300),\n",
    "        \"Batting Average\": round(random.uniform(30, 50), 2),\n",
    "        \"Wickets\": random.randint(50, 200),\n",
    "        \"Best Bowling\": random.randint(3, 8),\n",
    "        \"Bowling Average\": round(random.uniform(20, 35), 2),\n",
    "    },\n",
    "    \"Virat Kohli\": {\n",
    "        \"Matches\": random.randint(50, 250),\n",
    "        \"Runs\": random.randint(5000, 15000),\n",
    "        \"Highest Score\": random.randint(120, 240),\n",
    "        \"Batting Average\": round(random.uniform(45, 60), 2),\n",
    "        \"Wickets\": random.randint(10, 50),\n",
    "        \"Best Bowling\": random.randint(2, 5),\n",
    "        \"Bowling Average\": round(random.uniform(30, 45), 2),\n",
    "    },\n",
    "    \"Steve Smith\": {\n",
    "        \"Matches\": random.randint(50, 150),\n",
    "        \"Runs\": random.randint(4000, 10000),\n",
    "        \"Highest Score\": random.randint(110, 220),\n",
    "        \"Batting Average\": round(random.uniform(50, 65), 2),\n",
    "        \"Wickets\": random.randint(10, 30),\n",
    "        \"Best Bowling\": random.randint(2, 4),\n",
    "        \"Bowling Average\": round(random.uniform(40, 50), 2),\n",
    "    },\n",
    "    \"Kane Williamson\": {\n",
    "        \"Matches\": random.randint(50, 200),\n",
    "        \"Runs\": random.randint(3000, 12000),\n",
    "        \"Highest Score\": random.randint(130, 220),\n",
    "        \"Batting Average\": round(random.uniform(45, 60), 2),\n",
    "        \"Wickets\": random.randint(10, 50),\n",
    "        \"Best Bowling\": random.randint(2, 5),\n",
    "        \"Bowling Average\": round(random.uniform(30, 40), 2),\n",
    "    },\n",
    "}\n",
    "\n",
    "(cricket_players)\n"
   ]
  },
  {
   "cell_type": "code",
   "execution_count": 12,
   "id": "d54aa783",
   "metadata": {},
   "outputs": [
    {
     "name": "stdout",
     "output_type": "stream",
     "text": [
      "                 Sachin Tendulkar  Virat Kohli  Steve Smith  Kane Williamson\n",
      "Matches                    121.00        98.00       130.00            77.00\n",
      "Runs                     13909.00      8720.00      8027.00          7316.00\n",
      "Highest Score              237.00       127.00       201.00           213.00\n",
      "Batting Average             44.75        47.12        60.05            49.37\n",
      "Wickets                    107.00        10.00        18.00            18.00\n",
      "Best Bowling                 4.00         5.00         3.00             4.00\n",
      "Bowling Average             26.11        31.49        40.68            37.61\n"
     ]
    }
   ],
   "source": [
    "import pandas as pd\n",
    "\n",
    "# Create a DataFrame from the dictionary\n",
    "df = pd.DataFrame.from_dict(cricket_players)\n",
    "\n",
    "# Display the DataFrame\n",
    "print(df)\n"
   ]
  },
  {
   "cell_type": "code",
   "execution_count": 15,
   "id": "a98e42ae",
   "metadata": {},
   "outputs": [
    {
     "data": {
      "text/plain": [
       "Sachin Tendulkar    13909.0\n",
       "Virat Kohli          8720.0\n",
       "Steve Smith          8027.0\n",
       "Kane Williamson      7316.0\n",
       "Name: Runs, dtype: float64"
      ]
     },
     "execution_count": 15,
     "metadata": {},
     "output_type": "execute_result"
    }
   ],
   "source": [
    "# Extract data  \n",
    "runs = df.loc['Runs']\n",
    "\n",
    "# Display runs data\n",
    "runs\n"
   ]
  },
  {
   "cell_type": "code",
   "execution_count": 16,
   "id": "724fb13b",
   "metadata": {},
   "outputs": [],
   "source": [
    "def fitness_function(player_stats, weights):\n",
    "    # Calculate the fitness as a weighted sum of the player stats\n",
    "    fitness = 0\n",
    "    for stat, weight in zip(player_stats, weights):\n",
    "        fitness += stat * weight\n",
    "    return fitness\n"
   ]
  },
  {
   "cell_type": "code",
   "execution_count": 17,
   "id": "c11f5f82",
   "metadata": {},
   "outputs": [],
   "source": [
    "import numpy as np\n",
    "\n",
    "# Define the population size and number of stats\n",
    "POPULATION_SIZE = 100\n",
    "NUM_STATS = len(df.columns)\n",
    "\n",
    "# Generate a random population of player genes\n",
    "def generate_population():\n",
    "    population = []\n",
    "    for i in range(POPULATION_SIZE):\n",
    "        gene = np.random.uniform(low=0, high=1, size=NUM_STATS)\n",
    "        population.append(gene)\n",
    "    return population\n",
    "\n",
    "population = generate_population()\n"
   ]
  },
  {
   "cell_type": "code",
   "execution_count": 18,
   "id": "70537271",
   "metadata": {},
   "outputs": [],
   "source": [
    "# Define the weights for each stat\n",
    "STAT_WEIGHTS = [0.2, 0.3, 0.2, 0.15, 0.05, 0.05, 0.05]\n"
   ]
  },
  {
   "cell_type": "code",
   "execution_count": 19,
   "id": "695edeb0",
   "metadata": {},
   "outputs": [],
   "source": [
    "# Define the number of generations and mutation rate\n",
    "NUM_GENERATIONS = 100\n",
    "MUTATION_RATE = 0.05\n",
    "\n",
    "# Run the genetic algorithm\n",
    "for i in range(NUM_GENERATIONS):\n",
    "    # Evaluate the fitness of each gene\n",
    "    fitness_scores = []\n",
    "    for gene in population:\n",
    "        player_stats = np.dot(df.values, gene)\n",
    "        fitness = fitness_function(player_stats, STAT_WEIGHTS)\n",
    "        fitness_scores.append(fitness)\n",
    "\n",
    "    # Select the top-performing genes as parents for the next generation\n",
    "    parents = []\n",
    "    for j in range(2):\n",
    "        index = np.argmax(fitness_scores)\n",
    "        parents.append(population[index])\n",
    "        fitness_scores[index] = -1\n",
    "\n",
    "    # Generate the next generation through crossover and mutation\n",
    "    new_population = []\n",
    "    for j in range(POPULATION_SIZE):\n",
    "        parent1 = parents[j % 2]\n",
    "        parent2 = parents[(j + 1) % 2]\n",
    "        child = np.zeros(NUM_STATS)\n",
    "        for k in range(NUM_STATS):\n",
    "            if np.random.rand() < 0.5:\n",
    "                child[k] = parent1[k]\n",
    "            else:\n",
    "                child[k] = parent2[k]\n",
    "        if np.random.rand() < MUTATION_RATE:\n",
    "            mutation_index = np.random.randint(0, NUM_STATS)\n",
    "            child[mutation_index] = np.random.uniform(low=0, high=1)\n",
    "        new_population.append(child)\n",
    "\n",
    "    # Update the population\n",
    "    population = new_population\n"
   ]
  },
  {
   "cell_type": "code",
   "execution_count": null,
   "id": "ba78e359",
   "metadata": {},
   "outputs": [],
   "source": []
  },
  {
   "cell_type": "code",
   "execution_count": null,
   "id": "acf8bcee",
   "metadata": {},
   "outputs": [],
   "source": []
  },
  {
   "cell_type": "code",
   "execution_count": null,
   "id": "9319a3d9",
   "metadata": {},
   "outputs": [],
   "source": []
  }
 ],
 "metadata": {
  "kernelspec": {
   "display_name": "Python 3 (ipykernel)",
   "language": "python",
   "name": "python3"
  },
  "language_info": {
   "codemirror_mode": {
    "name": "ipython",
    "version": 3
   },
   "file_extension": ".py",
   "mimetype": "text/x-python",
   "name": "python",
   "nbconvert_exporter": "python",
   "pygments_lexer": "ipython3",
   "version": "3.10.7"
  }
 },
 "nbformat": 4,
 "nbformat_minor": 5
}
